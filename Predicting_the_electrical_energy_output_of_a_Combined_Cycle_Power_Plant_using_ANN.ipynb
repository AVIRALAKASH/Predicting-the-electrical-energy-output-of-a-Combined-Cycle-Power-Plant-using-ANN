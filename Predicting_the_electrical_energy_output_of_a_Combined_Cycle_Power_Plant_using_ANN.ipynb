{
  "nbformat": 4,
  "nbformat_minor": 0,
  "metadata": {
    "colab": {
      "name": " Predicting the electrical energy output of a Combined Cycle Power Plant using ANN",
      "provenance": [],
      "collapsed_sections": [],
      "include_colab_link": true
    },
    "kernelspec": {
      "name": "python3",
      "display_name": "Python 3"
    }
  },
  "cells": [
    {
      "cell_type": "markdown",
      "metadata": {
        "id": "view-in-github",
        "colab_type": "text"
      },
      "source": [
        "<a href=\"https://colab.research.google.com/github/AVIRALAKASH/Predicting-the-electrical-energy-output-of-a-Combined-Cycle-Power-Plant-using-ANN/blob/main/Predicting_the_electrical_energy_output_of_a_Combined_Cycle_Power_Plant_using_ANN.ipynb\" target=\"_parent\"><img src=\"https://colab.research.google.com/assets/colab-badge.svg\" alt=\"Open In Colab\"/></a>"
      ]
    },
    {
      "cell_type": "markdown",
      "metadata": {
        "id": "8sNDnxE2-pwE"
      },
      "source": [
        "### Importing the libraries"
      ]
    },
    {
      "cell_type": "code",
      "metadata": {
        "id": "lxChR1Rk-umf"
      },
      "source": [
        "import numpy as np\n",
        "import pandas as pd\n",
        "import tensorflow as tf"
      ],
      "execution_count": 8,
      "outputs": []
    },
    {
      "cell_type": "code",
      "metadata": {
        "id": "uBTqR3nacj0e",
        "colab": {
          "base_uri": "https://localhost:8080/",
          "height": 35
        },
        "outputId": "95f75987-8957-455e-eeba-5897cb29cee8"
      },
      "source": [
        "tf.__version__"
      ],
      "execution_count": 9,
      "outputs": [
        {
          "output_type": "execute_result",
          "data": {
            "application/vnd.google.colaboratory.intrinsic+json": {
              "type": "string"
            },
            "text/plain": [
              "'2.5.0'"
            ]
          },
          "metadata": {
            "tags": []
          },
          "execution_count": 9
        }
      ]
    },
    {
      "cell_type": "markdown",
      "metadata": {
        "id": "AG3FQEch-yuA"
      },
      "source": [
        "## Part 1 - Data Preprocessing"
      ]
    },
    {
      "cell_type": "markdown",
      "metadata": {
        "id": "-4zq8Mza_D9O"
      },
      "source": [
        "### Importing the dataset"
      ]
    },
    {
      "cell_type": "code",
      "metadata": {
        "id": "B9CV13Co_HHM"
      },
      "source": [
        "dataset = pd.read_excel('Folds5x2_pp.xlsx')\n",
        "X = dataset.iloc[:, :-1].values\n",
        "y = dataset.iloc[:, -1].values"
      ],
      "execution_count": 10,
      "outputs": []
    },
    {
      "cell_type": "markdown",
      "metadata": {
        "id": "_mSLlAT9_eyI"
      },
      "source": [
        "## Part 2 - Building the ANN"
      ]
    },
    {
      "cell_type": "markdown",
      "metadata": {
        "id": "CsBULd_f_wLY"
      },
      "source": [
        "### Initializing the ANN"
      ]
    },
    {
      "cell_type": "code",
      "metadata": {
        "id": "J6Hd97Ls__Nz"
      },
      "source": [
        "ann = tf.keras.models.Sequential()"
      ],
      "execution_count": 11,
      "outputs": []
    },
    {
      "cell_type": "markdown",
      "metadata": {
        "id": "iitAFJS_ABUn"
      },
      "source": [
        "### Adding the input layer and the first hidden layer"
      ]
    },
    {
      "cell_type": "code",
      "metadata": {
        "id": "ksO_Vv40AHix"
      },
      "source": [
        "ann.add(tf.keras.layers.Dense(units=6, activation='relu'))"
      ],
      "execution_count": 12,
      "outputs": []
    },
    {
      "cell_type": "markdown",
      "metadata": {
        "id": "-lb4kK_wAKbs"
      },
      "source": [
        "### Adding the second hidden layer"
      ]
    },
    {
      "cell_type": "code",
      "metadata": {
        "id": "c2357OqEAQOQ"
      },
      "source": [
        "ann.add(tf.keras.layers.Dense(units=6, activation='relu'))"
      ],
      "execution_count": 13,
      "outputs": []
    },
    {
      "cell_type": "markdown",
      "metadata": {
        "id": "jwMOmKb3AdBY"
      },
      "source": [
        "### Adding the output layer"
      ]
    },
    {
      "cell_type": "code",
      "metadata": {
        "id": "YFATpzsUAkLL"
      },
      "source": [
        "ann.add(tf.keras.layers.Dense(units=1))"
      ],
      "execution_count": 14,
      "outputs": []
    },
    {
      "cell_type": "markdown",
      "metadata": {
        "id": "fq7e4fF6A1yy"
      },
      "source": [
        "## Part 3 - Training the ANN"
      ]
    },
    {
      "cell_type": "markdown",
      "metadata": {
        "id": "qDeylAs2An25"
      },
      "source": [
        "### Compiling the ANN"
      ]
    },
    {
      "cell_type": "code",
      "metadata": {
        "id": "pesgbWlCAtB4"
      },
      "source": [
        "ann.compile(optimizer = 'adam', loss = 'mean_squared_error')"
      ],
      "execution_count": 15,
      "outputs": []
    },
    {
      "cell_type": "markdown",
      "metadata": {
        "id": "YjVuiybYOo7r"
      },
      "source": [
        "### Training the ANN model on the Training set"
      ]
    },
    {
      "cell_type": "code",
      "metadata": {
        "id": "c_vV-tiiA5zn",
        "colab": {
          "base_uri": "https://localhost:8080/"
        },
        "outputId": "ee9f1cb5-b05d-4c6e-8fac-e92c202b98b6"
      },
      "source": [
        "ann.fit(X, y, batch_size = 32, epochs = 100)"
      ],
      "execution_count": 16,
      "outputs": [
        {
          "output_type": "stream",
          "text": [
            "Epoch 1/100\n",
            "299/299 [==============================] - 1s 930us/step - loss: 12170.2344\n",
            "Epoch 2/100\n",
            "299/299 [==============================] - 0s 1ms/step - loss: 278.2863\n",
            "Epoch 3/100\n",
            "299/299 [==============================] - 0s 1ms/step - loss: 259.7673\n",
            "Epoch 4/100\n",
            "299/299 [==============================] - 0s 1ms/step - loss: 236.6120\n",
            "Epoch 5/100\n",
            "299/299 [==============================] - 0s 1ms/step - loss: 211.2588\n",
            "Epoch 6/100\n",
            "299/299 [==============================] - 0s 959us/step - loss: 184.2635\n",
            "Epoch 7/100\n",
            "299/299 [==============================] - 0s 995us/step - loss: 156.4773\n",
            "Epoch 8/100\n",
            "299/299 [==============================] - 0s 967us/step - loss: 129.6309\n",
            "Epoch 9/100\n",
            "299/299 [==============================] - 0s 990us/step - loss: 105.1683\n",
            "Epoch 10/100\n",
            "299/299 [==============================] - 0s 934us/step - loss: 83.3518\n",
            "Epoch 11/100\n",
            "299/299 [==============================] - 0s 934us/step - loss: 65.7611\n",
            "Epoch 12/100\n",
            "299/299 [==============================] - 0s 1ms/step - loss: 52.7377\n",
            "Epoch 13/100\n",
            "299/299 [==============================] - 0s 951us/step - loss: 44.0776\n",
            "Epoch 14/100\n",
            "299/299 [==============================] - 0s 969us/step - loss: 38.7468\n",
            "Epoch 15/100\n",
            "299/299 [==============================] - 0s 957us/step - loss: 35.9601\n",
            "Epoch 16/100\n",
            "299/299 [==============================] - 0s 939us/step - loss: 34.8722\n",
            "Epoch 17/100\n",
            "299/299 [==============================] - 0s 962us/step - loss: 33.8069\n",
            "Epoch 18/100\n",
            "299/299 [==============================] - 0s 961us/step - loss: 33.4725\n",
            "Epoch 19/100\n",
            "299/299 [==============================] - 0s 969us/step - loss: 32.6446\n",
            "Epoch 20/100\n",
            "299/299 [==============================] - 0s 985us/step - loss: 32.0801\n",
            "Epoch 21/100\n",
            "299/299 [==============================] - 0s 939us/step - loss: 31.5906\n",
            "Epoch 22/100\n",
            "299/299 [==============================] - 0s 986us/step - loss: 31.0214\n",
            "Epoch 23/100\n",
            "299/299 [==============================] - 0s 979us/step - loss: 30.6429\n",
            "Epoch 24/100\n",
            "299/299 [==============================] - 0s 984us/step - loss: 30.2464\n",
            "Epoch 25/100\n",
            "299/299 [==============================] - 0s 975us/step - loss: 29.8021\n",
            "Epoch 26/100\n",
            "299/299 [==============================] - 0s 1ms/step - loss: 29.3257\n",
            "Epoch 27/100\n",
            "299/299 [==============================] - 0s 921us/step - loss: 29.4639\n",
            "Epoch 28/100\n",
            "299/299 [==============================] - 0s 992us/step - loss: 28.0804\n",
            "Epoch 29/100\n",
            "299/299 [==============================] - 0s 1ms/step - loss: 27.7807\n",
            "Epoch 30/100\n",
            "299/299 [==============================] - 0s 1ms/step - loss: 28.5705\n",
            "Epoch 31/100\n",
            "299/299 [==============================] - 0s 992us/step - loss: 28.2602\n",
            "Epoch 32/100\n",
            "299/299 [==============================] - 0s 995us/step - loss: 27.7175\n",
            "Epoch 33/100\n",
            "299/299 [==============================] - 0s 973us/step - loss: 27.1687\n",
            "Epoch 34/100\n",
            "299/299 [==============================] - 0s 933us/step - loss: 27.7338\n",
            "Epoch 35/100\n",
            "299/299 [==============================] - 0s 918us/step - loss: 27.2323\n",
            "Epoch 36/100\n",
            "299/299 [==============================] - 0s 1ms/step - loss: 26.9534\n",
            "Epoch 37/100\n",
            "299/299 [==============================] - 0s 1ms/step - loss: 26.9021\n",
            "Epoch 38/100\n",
            "299/299 [==============================] - 0s 920us/step - loss: 27.0949\n",
            "Epoch 39/100\n",
            "299/299 [==============================] - 0s 961us/step - loss: 26.7446\n",
            "Epoch 40/100\n",
            "299/299 [==============================] - 0s 960us/step - loss: 26.8247\n",
            "Epoch 41/100\n",
            "299/299 [==============================] - 0s 963us/step - loss: 26.4929\n",
            "Epoch 42/100\n",
            "299/299 [==============================] - 0s 970us/step - loss: 27.3695\n",
            "Epoch 43/100\n",
            "299/299 [==============================] - 0s 1ms/step - loss: 26.6918\n",
            "Epoch 44/100\n",
            "299/299 [==============================] - 0s 981us/step - loss: 26.6059\n",
            "Epoch 45/100\n",
            "299/299 [==============================] - 0s 958us/step - loss: 26.3763\n",
            "Epoch 46/100\n",
            "299/299 [==============================] - 0s 997us/step - loss: 26.8045\n",
            "Epoch 47/100\n",
            "299/299 [==============================] - 0s 988us/step - loss: 26.7700\n",
            "Epoch 48/100\n",
            "299/299 [==============================] - 0s 976us/step - loss: 27.2452\n",
            "Epoch 49/100\n",
            "299/299 [==============================] - 0s 938us/step - loss: 26.9256\n",
            "Epoch 50/100\n",
            "299/299 [==============================] - 0s 956us/step - loss: 26.6719\n",
            "Epoch 51/100\n",
            "299/299 [==============================] - 0s 976us/step - loss: 26.7517\n",
            "Epoch 52/100\n",
            "299/299 [==============================] - 0s 921us/step - loss: 26.2283\n",
            "Epoch 53/100\n",
            "299/299 [==============================] - 0s 967us/step - loss: 26.2171\n",
            "Epoch 54/100\n",
            "299/299 [==============================] - 0s 950us/step - loss: 26.4992\n",
            "Epoch 55/100\n",
            "299/299 [==============================] - 0s 931us/step - loss: 26.7645\n",
            "Epoch 56/100\n",
            "299/299 [==============================] - 0s 944us/step - loss: 27.1624\n",
            "Epoch 57/100\n",
            "299/299 [==============================] - 0s 1ms/step - loss: 26.6976\n",
            "Epoch 58/100\n",
            "299/299 [==============================] - 0s 984us/step - loss: 26.8326\n",
            "Epoch 59/100\n",
            "299/299 [==============================] - 0s 977us/step - loss: 26.7087\n",
            "Epoch 60/100\n",
            "299/299 [==============================] - 0s 996us/step - loss: 26.6436\n",
            "Epoch 61/100\n",
            "299/299 [==============================] - 0s 932us/step - loss: 26.6712\n",
            "Epoch 62/100\n",
            "299/299 [==============================] - 0s 986us/step - loss: 26.5902\n",
            "Epoch 63/100\n",
            "299/299 [==============================] - 0s 1ms/step - loss: 26.7087\n",
            "Epoch 64/100\n",
            "299/299 [==============================] - 0s 989us/step - loss: 26.4308\n",
            "Epoch 65/100\n",
            "299/299 [==============================] - 0s 998us/step - loss: 27.0668\n",
            "Epoch 66/100\n",
            "299/299 [==============================] - 0s 971us/step - loss: 27.9071\n",
            "Epoch 67/100\n",
            "299/299 [==============================] - 0s 999us/step - loss: 26.4852\n",
            "Epoch 68/100\n",
            "299/299 [==============================] - 0s 973us/step - loss: 26.8354\n",
            "Epoch 69/100\n",
            "299/299 [==============================] - 0s 1ms/step - loss: 26.5621\n",
            "Epoch 70/100\n",
            "299/299 [==============================] - 0s 1ms/step - loss: 26.9010\n",
            "Epoch 71/100\n",
            "299/299 [==============================] - 0s 994us/step - loss: 27.2069\n",
            "Epoch 72/100\n",
            "299/299 [==============================] - 0s 990us/step - loss: 26.6319\n",
            "Epoch 73/100\n",
            "299/299 [==============================] - 0s 1ms/step - loss: 26.8853\n",
            "Epoch 74/100\n",
            "299/299 [==============================] - 0s 1ms/step - loss: 26.4282\n",
            "Epoch 75/100\n",
            "299/299 [==============================] - 0s 1ms/step - loss: 26.7122\n",
            "Epoch 76/100\n",
            "299/299 [==============================] - 0s 1ms/step - loss: 26.6197\n",
            "Epoch 77/100\n",
            "299/299 [==============================] - 0s 1ms/step - loss: 27.2836\n",
            "Epoch 78/100\n",
            "299/299 [==============================] - 0s 964us/step - loss: 26.4893\n",
            "Epoch 79/100\n",
            "299/299 [==============================] - 0s 1ms/step - loss: 26.5057\n",
            "Epoch 80/100\n",
            "299/299 [==============================] - 0s 1ms/step - loss: 26.4667\n",
            "Epoch 81/100\n",
            "299/299 [==============================] - 0s 990us/step - loss: 26.6979\n",
            "Epoch 82/100\n",
            "299/299 [==============================] - 0s 989us/step - loss: 26.5030\n",
            "Epoch 83/100\n",
            "299/299 [==============================] - 0s 977us/step - loss: 26.9281\n",
            "Epoch 84/100\n",
            "299/299 [==============================] - 0s 967us/step - loss: 27.0133\n",
            "Epoch 85/100\n",
            "299/299 [==============================] - 0s 971us/step - loss: 26.5637\n",
            "Epoch 86/100\n",
            "299/299 [==============================] - 0s 943us/step - loss: 26.4906\n",
            "Epoch 87/100\n",
            "299/299 [==============================] - 0s 954us/step - loss: 26.5503\n",
            "Epoch 88/100\n",
            "299/299 [==============================] - 0s 964us/step - loss: 26.7265\n",
            "Epoch 89/100\n",
            "299/299 [==============================] - 0s 958us/step - loss: 26.2511\n",
            "Epoch 90/100\n",
            "299/299 [==============================] - 0s 1ms/step - loss: 26.5392\n",
            "Epoch 91/100\n",
            "299/299 [==============================] - 0s 970us/step - loss: 26.3376\n",
            "Epoch 92/100\n",
            "299/299 [==============================] - 0s 946us/step - loss: 27.0106\n",
            "Epoch 93/100\n",
            "299/299 [==============================] - 0s 1ms/step - loss: 26.9307\n",
            "Epoch 94/100\n",
            "299/299 [==============================] - 0s 971us/step - loss: 26.7040\n",
            "Epoch 95/100\n",
            "299/299 [==============================] - 0s 951us/step - loss: 26.5946\n",
            "Epoch 96/100\n",
            "299/299 [==============================] - 0s 979us/step - loss: 26.7060\n",
            "Epoch 97/100\n",
            "299/299 [==============================] - 0s 1ms/step - loss: 26.3170\n",
            "Epoch 98/100\n",
            "299/299 [==============================] - 0s 980us/step - loss: 26.3525\n",
            "Epoch 99/100\n",
            "299/299 [==============================] - 0s 916us/step - loss: 26.4696\n",
            "Epoch 100/100\n",
            "299/299 [==============================] - 0s 1ms/step - loss: 26.8250\n"
          ],
          "name": "stdout"
        },
        {
          "output_type": "execute_result",
          "data": {
            "text/plain": [
              "<tensorflow.python.keras.callbacks.History at 0x7efeee43b210>"
            ]
          },
          "metadata": {
            "tags": []
          },
          "execution_count": 16
        }
      ]
    },
    {
      "cell_type": "markdown",
      "metadata": {
        "id": "0H0zKKNEBLD5"
      },
      "source": [
        "### Enter Values Here:"
      ]
    },
    {
      "cell_type": "code",
      "metadata": {
        "colab": {
          "base_uri": "https://localhost:8080/"
        },
        "id": "ws9jcw-8LZQO",
        "outputId": "1b5eb3b4-6f25-48e9-a55c-61576928cd6e"
      },
      "source": [
        "AT=float(input(\"Enter average tempreture: \"))\n",
        "V=float(input(\" Enter Exhaust Vacuum: \"))\n",
        "AP=float(input(\"Enter Ambient Pressure: \"))\n",
        "RH=float(input(\"Enter Relative Humidity: \"))\n",
        "OUT=ann.predict([[AT,V,AP,RH]])\n",
        "for i in OUT:\n",
        "  for j in i:\n",
        "    print(\"The net hourly electrical energy output of the plant is :\", j,\"MW\")\n"
      ],
      "execution_count": 17,
      "outputs": [
        {
          "output_type": "stream",
          "text": [
            "Enter average tempreture: 48\n",
            " Enter Exhaust Vacuum: 34\n",
            "Enter Ambient Pressure: 1001\n",
            "Enter Relative Humidity: 67\n",
            "The net hourly electrical energy output of the plant is : 408.15503 MW\n"
          ],
          "name": "stdout"
        }
      ]
    }
  ]
}